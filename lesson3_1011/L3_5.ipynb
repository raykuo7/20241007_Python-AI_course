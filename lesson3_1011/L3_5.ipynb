{
 "cells": [
  {
   "cell_type": "code",
   "execution_count": 3,
   "metadata": {},
   "outputs": [],
   "source": [
    "url = 'https://data.taipei/api/dataset/6bed0f15-68a5-4795-978e-b2d360a7ec74/resource/153d7a17-14f8-4e03-ab8a-13430f0c93bb/download'"
   ]
  },
  {
   "cell_type": "code",
   "execution_count": 4,
   "metadata": {},
   "outputs": [
    {
     "data": {
      "text/plain": [
       "0"
      ]
     },
     "execution_count": 4,
     "metadata": {},
     "output_type": "execute_result"
    }
   ],
   "source": [
    "import os\n",
    "os.system('pip install requests')"
   ]
  },
  {
   "cell_type": "code",
   "execution_count": 8,
   "metadata": {},
   "outputs": [
    {
     "name": "stdout",
     "output_type": "stream",
     "text": [
      "溪流編號,行政區,村里,土石流警戒雨量值（mm／24hr）,參考雨量站,保全住戶戶數,保全住戶人數\n",
      "DF001,北投區,湖田里,500,北投小油坑,0,0\n",
      "DF002,北投區,湖田里,500,北投小油坑,0,0\n",
      "DF003,北投區,湖田里,500,士林擎天崗,0,0\n",
      "DF004,北投區,泉源里,500,北投竹子湖,0,0\n",
      "DF005,北投區,泉源里,500,北投竹子湖,0,0\n",
      "DF006,北投區,泉源里,500,北投竹子湖,0,0\n",
      "DF007,北投區,泉源里,500,北投竹子湖,0,0\n",
      "DF008,北投區,大屯里,500,北投水磨坑溪,0,0\n",
      "DF009,北投區,秀山里,500,北投貴子坑,0,0\n",
      "DF010,北投區,秀山里,500,北投貴子坑,0,0\n",
      "DF011,北投區,大屯里,500,北投水磨坑溪,20,67\n",
      "DF012,北投區,秀山里,500,北投貴子坑,8,21\n",
      "DF013,北投區,秀山里,500,北投貴子坑,3,7\n",
      "DF014,北投區,稻香里,500,北投稻香里,0,0\n",
      "DF015,北投區,桃源里,500,北投稻香里,0,0\n",
      "DF016,北投區,永和里,500,北投貴子坑,0,0\n",
      "DF017,北投區,林泉里,500,北投貴子坑,0,0\n",
      "DF018,士林區,福林里,500,士林明德樂園,0,0\n",
      "DF019,士林區,臨溪里,500,士林明德樂園,0,0\n",
      "DF020,士林區,臨溪里,500,士林明德樂園,0,0\n",
      "DF021,士林區,新安里,500,士林菁山里,3,3\n",
      "DF022,士林區,溪山里,500,士林明德樂園,0,0\n",
      "DF023,士林區,溪山里,500,士林溪山里,0,0\n",
      "DF024,士林區,溪山里,500,士林溪山里,8,18\n",
      "DF025,中山區,大直里,550,中山劍南路,0,0\n",
      "DF026,信義區,泰和里,600,信義挹翠山莊,26,64\n",
      "DF027,信義區,泰和里,600,信義挹翠山莊,17,48\n",
      "DF028,信義區,六合里,600,信義挹翠山莊,0,0\n",
      "DF029,信義區,松隆里,600,信義四獸山,0,0\n",
      "DF030,信義區,松隆里,600,信義四獸山,0,0\n",
      "DF031,文山區,老泉里,500,文山貓空,0,0\n",
      "DF032,文山區,指南里,500,文山貓空,0,0\n",
      "DF033,文山區,政大里,500,文山貓空,0,0\n",
      "DF034,南港區,仁福里,600,信義四獸山,0,0\n",
      "DF035,南港區,仁福里,600,信義四獸山,0,0\n",
      "DF036,南港區,九如里,600,南港九如里,0,0\n",
      "DF037,南港區,舊莊里,600,南港舊莊里,0,0\n",
      "DF038,南港區,舊莊里,600,南港舊莊里,0,0\n",
      "DF039,內湖區,大湖里,500,內湖大湖里,0,0\n",
      "DF040,內湖區,大湖里,500,內湖大湖里,0,0\n",
      "DF041,內湖區,大湖里,500,內湖大湖里,0,0\n",
      "DF042,內湖區,大湖里,500,內湖大湖里,0,0\n",
      "DF043,內湖區,碧山里,500,內湖金面山,0,0\n",
      "DF044,內湖區,碧山里,500,內湖金面山,6,3\n",
      "DF045,內湖區,金瑞里,500,內湖金面山,0,0\n",
      "DF046,內湖區,金瑞里,500,內湖金面山,2,6\n",
      "DF047,內湖區,港華里,500,內湖金面山,0,0\n",
      "DF048,內湖區,港華里,500,內湖金面山,10,4\n",
      "DF049,內湖區,西安里,500,內湖金面山,0,0\n",
      "DF050,內湖區,西康里,500,中山劍南路,0,0\n",
      "\n"
     ]
    }
   ],
   "source": [
    "import requests\n",
    "from requests import Response\n",
    "url_1 = 'https://data.taipei/api/dataset/6bed0f15-68a5-4795-978e-b2d360a7ec74/resource/153d7a17-14f8-4e03-ab8a-13430f0c93bb/download'\n",
    "\n",
    "response:Response = requests.get(url=url_1)\n",
    "print(response.text)\n"
   ]
  },
  {
   "cell_type": "code",
   "execution_count": null,
   "metadata": {},
   "outputs": [],
   "source": []
  }
 ],
 "metadata": {
  "kernelspec": {
   "display_name": "tvdi_202410",
   "language": "python",
   "name": "python3"
  },
  "language_info": {
   "codemirror_mode": {
    "name": "ipython",
    "version": 3
   },
   "file_extension": ".py",
   "mimetype": "text/x-python",
   "name": "python",
   "nbconvert_exporter": "python",
   "pygments_lexer": "ipython3",
   "version": "3.11.10"
  }
 },
 "nbformat": 4,
 "nbformat_minor": 2
}
