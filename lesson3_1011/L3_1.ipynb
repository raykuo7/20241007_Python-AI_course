{
 "cells": [
  {
   "cell_type": "markdown",
   "metadata": {},
   "source": [
    "# L3"
   ]
  },
  {
   "cell_type": "code",
   "execution_count": 27,
   "metadata": {},
   "outputs": [
    {
     "ename": "IndentationError",
     "evalue": "unexpected indent (3451526963.py, line 20)",
     "output_type": "error",
     "traceback": [
      "\u001b[1;36m  Cell \u001b[1;32mIn[27], line 20\u001b[1;36m\u001b[0m\n\u001b[1;33m    def age(self , value):\u001b[0m\n\u001b[1;37m    ^\u001b[0m\n\u001b[1;31mIndentationError\u001b[0m\u001b[1;31m:\u001b[0m unexpected indent\n"
     ]
    }
   ],
   "source": [
    "class Person(object) :\n",
    "        def __init__(self, name:str , age:int):\n",
    "            self.__name = name # # attribute\n",
    "            self.age = a\n",
    "        def __repr__(self) -> str:\n",
    "              return  f'my name is:{self.name}\\nmy age is:{self.age}'\n",
    "\n",
    "        @property\n",
    "        def name(self)->str:     # #read only 只會傳出資料\n",
    "            return self.__name\n",
    "        \n",
    "        @name.setter\n",
    "        def name(self , n):\n",
    "              print(\"You can't set name to\" , n)\n",
    "\n",
    "        @property\n",
    "        def age(self)->int:\n",
    "            return self.__age\n",
    "        @age.setter\n",
    "        def age(self , value):\n",
    "            if value >130 or value <0:\n",
    "                print('iligal value!')\n",
    "            else:\n",
    "                self.__age = value\n",
    "\n",
    "        "
   ]
  },
  {
   "cell_type": "code",
   "execution_count": 23,
   "metadata": {},
   "outputs": [
    {
     "name": "stdout",
     "output_type": "stream",
     "text": [
      "You can't set name to lalala\n",
      "ray\n",
      "55\n",
      "my name is:ray\n",
      "my age is:55\n"
     ]
    }
   ],
   "source": [
    "a = Person('ray' , 55)\n",
    "a.name = 'lalala'\n",
    "print(a.name)\n",
    "print(a.age)\n",
    "print(a)\n",
    "# help(a)"
   ]
  },
  {
   "cell_type": "markdown",
   "metadata": {},
   "source": [
    "## teacher's"
   ]
  },
  {
   "cell_type": "code",
   "execution_count": 5,
   "metadata": {},
   "outputs": [],
   "source": [
    "class Person(object):\n",
    "    #自訂的init,建立內建的attribute\n",
    "    def __init__(self,name:str,age:int): #type hint\n",
    "        self.name = name #attribute\n",
    "        self.age = age #attribute\n",
    "\n",
    "    #自訂實體被print()時的輸出\n",
    "    def __repr__(self)->str:\n",
    "        return f'我的名字是:{self.name}\\n我的age是{self.age}'"
   ]
  },
  {
   "cell_type": "code",
   "execution_count": 6,
   "metadata": {},
   "outputs": [
    {
     "name": "stdout",
     "output_type": "stream",
     "text": [
      "我的名字是:robert\n",
      "我的age是18\n",
      "====================\n",
      "我的名字是:徐國堂\n",
      "我的age是38\n"
     ]
    }
   ],
   "source": [
    "#初始化,initial\n",
    "p1 = Person(name=\"robert\",age=18)\n",
    "\n",
    "print(p1)\n",
    "\n",
    "print(\"====================\")\n",
    "\n",
    "p2 = Person(name=\"徐國堂\",age=38)\n",
    "\n",
    "print(p2)"
   ]
  },
  {
   "cell_type": "code",
   "execution_count": 7,
   "metadata": {},
   "outputs": [
    {
     "name": "stdout",
     "output_type": "stream",
     "text": [
      "Help on class Person in module __main__:\n",
      "\n",
      "class Person(builtins.object)\n",
      " |  Person(name: str, age: int)\n",
      " |  \n",
      " |  Methods defined here:\n",
      " |  \n",
      " |  __init__(self, name: str, age: int)\n",
      " |      Initialize self.  See help(type(self)) for accurate signature.\n",
      " |  \n",
      " |  __repr__(self) -> str\n",
      " |      Return repr(self).\n",
      " |  \n",
      " |  ----------------------------------------------------------------------\n",
      " |  Data descriptors defined here:\n",
      " |  \n",
      " |  __dict__\n",
      " |      dictionary for instance variables\n",
      " |  \n",
      " |  __weakref__\n",
      " |      list of weak references to the object\n",
      "\n"
     ]
    }
   ],
   "source": [
    "help(Person)"
   ]
  },
  {
   "cell_type": "markdown",
   "metadata": {},
   "source": [
    "### property getter & setter"
   ]
  },
  {
   "cell_type": "code",
   "execution_count": 28,
   "metadata": {},
   "outputs": [],
   "source": [
    "class Person(object):\n",
    "    #自訂的init,建立內建的attribute\n",
    "    def __init__(self,name:str,age:int): #type hint\n",
    "        self.__name = name #private attribute\n",
    "        self.__age = age #private attribute\n",
    "\n",
    "    #自訂實體被print()時的輸出\n",
    "    def __repr__(self)->str:\n",
    "        return f'我的名字是:{self.name}\\n我的age是{self.age}'\n",
    "    \n",
    "    @property\n",
    "    def name(self)->str:\n",
    "        return self.__name\n",
    "    \n",
    "    @name.setter\n",
    "    def name(self,n):\n",
    "        print(f\"不可以改名為{n}\")\n",
    "\n",
    "    @property\n",
    "    def age(self)->int: #getter\n",
    "        return self.__age\n",
    "    \n",
    "    @age.setter\n",
    "    def age(self,value): #setter\n",
    "        if value > 100 or value < 0:\n",
    "            print(\"不合法的值\")\n",
    "        else:\n",
    "            self.__age = value\n"
   ]
  },
  {
   "cell_type": "code",
   "execution_count": 29,
   "metadata": {},
   "outputs": [
    {
     "name": "stdout",
     "output_type": "stream",
     "text": [
      "不可以改名為abc\n",
      "不合法的值\n",
      "robert\n",
      "28\n"
     ]
    }
   ],
   "source": [
    "#初始化,initial\n",
    "p1 = Person(name=\"robert\",age=18)\n",
    "p1.name = \"abc\"\n",
    "p1.age = 200\n",
    "p1.age = 28\n",
    "print(p1.name)\n",
    "print(p1.age)"
   ]
  },
  {
   "cell_type": "code",
   "execution_count": 26,
   "metadata": {},
   "outputs": [
    {
     "name": "stdout",
     "output_type": "stream",
     "text": [
      "Help on class Person in module __main__:\n",
      "\n",
      "class Person(builtins.object)\n",
      " |  Person(name: str, age: int)\n",
      " |  \n",
      " |  Methods defined here:\n",
      " |  \n",
      " |  __init__(self, name: str, age: int)\n",
      " |      Initialize self.  See help(type(self)) for accurate signature.\n",
      " |  \n",
      " |  __repr__(self) -> str\n",
      " |      Return repr(self).\n",
      " |  \n",
      " |  ----------------------------------------------------------------------\n",
      " |  Data descriptors defined here:\n",
      " |  \n",
      " |  __dict__\n",
      " |      dictionary for instance variables\n",
      " |  \n",
      " |  __weakref__\n",
      " |      list of weak references to the object\n",
      " |  \n",
      " |  name\n",
      "\n"
     ]
    }
   ],
   "source": [
    "help(Person)"
   ]
  },
  {
   "cell_type": "code",
   "execution_count": null,
   "metadata": {},
   "outputs": [],
   "source": []
  }
 ],
 "metadata": {
  "kernelspec": {
   "display_name": "tvdi_202410",
   "language": "python",
   "name": "python3"
  },
  "language_info": {
   "codemirror_mode": {
    "name": "ipython",
    "version": 3
   },
   "file_extension": ".py",
   "mimetype": "text/x-python",
   "name": "python",
   "nbconvert_exporter": "python",
   "pygments_lexer": "ipython3",
   "version": "3.11.10"
  }
 },
 "nbformat": 4,
 "nbformat_minor": 2
}
