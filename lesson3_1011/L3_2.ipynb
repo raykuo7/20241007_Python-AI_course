{
 "cells": [
  {
   "cell_type": "code",
   "execution_count": 1,
   "metadata": {},
   "outputs": [],
   "source": [
    "class Person(object):\n",
    "    #自訂的init,建立內建的attribute\n",
    "    def __init__(self,name:str,age:int): #type hint\n",
    "        self.__name = name #private attribute\n",
    "        self.__age = age #private attribute\n",
    "\n",
    "    #自訂實體被print()時的輸出\n",
    "    def __repr__(self)->str:\n",
    "        return f'我的名字是:{self.name}\\n我的age是{self.age}'\n",
    "    \n",
    "    @property\n",
    "    def name(self)->str:\n",
    "        return self.__name\n",
    "    \n",
    "    @name.setter\n",
    "    def name(self,n):\n",
    "        print(f\"不可以改名為{n}\")\n",
    "\n",
    "    @property\n",
    "    def age(self)->int: #getter\n",
    "        return self.__age\n",
    "    \n",
    "    @age.setter\n",
    "    def age(self,value): #setter\n",
    "        if value > 100 or value < 0:\n",
    "            print(\"不合法的值\")\n",
    "        else:\n",
    "            self.__age = value"
   ]
  },
  {
   "cell_type": "code",
   "execution_count": 16,
   "metadata": {},
   "outputs": [],
   "source": [
    "class Student(Person):\n",
    "    @classmethod\n",
    "    def echo(cls):\n",
    "        print('I am a Student!')\n",
    "\n",
    "    def __init__(self, name: str, age: int, chinese:int = 0, english:int = 0, math:int = 0):\n",
    "        super().__init__(name=name, age=age)     # #執行父類別初始化\n",
    "        self.chinese = chinese\n",
    "        self.english = english\n",
    "        self.math = math\n",
    "    \n",
    "    @property\n",
    "    def total(self)->int:\n",
    "        return self.chinese + self.english + self.math\n",
    "    \n",
    "    # ! install method 實體方法\n",
    "    def average(self)->float:\n",
    "        return round(self.total / 3 , ndigits=2 )\n",
    "    "
   ]
  },
  {
   "cell_type": "code",
   "execution_count": 19,
   "metadata": {},
   "outputs": [
    {
     "name": "stdout",
     "output_type": "stream",
     "text": [
      "我的名字是:徐國堂\n",
      "我的age是40\n",
      "55\n",
      "70\n",
      "80\n",
      "tatal:  205\n",
      "average:  68.33\n"
     ]
    }
   ],
   "source": [
    "stu1 = Student(name=\"徐國堂\", age=40 , chinese=55, english=70, math=80)\n",
    "print(stu1)\n",
    "print(stu1.chinese)     # # attribute\n",
    "print(stu1.english)     # #attribute\n",
    "print(stu1.math)        # #attribute\n",
    "print('tatal: ' , stu1.total)   # #property\n",
    "print('average: ' , stu1.average()) # # method"
   ]
  },
  {
   "cell_type": "code",
   "execution_count": 17,
   "metadata": {},
   "outputs": [
    {
     "name": "stdout",
     "output_type": "stream",
     "text": [
      "I am a Student!\n"
     ]
    }
   ],
   "source": [
    "Student.echo()"
   ]
  },
  {
   "cell_type": "code",
   "execution_count": null,
   "metadata": {},
   "outputs": [],
   "source": []
  }
 ],
 "metadata": {
  "kernelspec": {
   "display_name": "tvdi_202410",
   "language": "python",
   "name": "python3"
  },
  "language_info": {
   "codemirror_mode": {
    "name": "ipython",
    "version": 3
   },
   "file_extension": ".py",
   "mimetype": "text/x-python",
   "name": "python",
   "nbconvert_exporter": "python",
   "pygments_lexer": "ipython3",
   "version": "3.11.10"
  }
 },
 "nbformat": 4,
 "nbformat_minor": 2
}
