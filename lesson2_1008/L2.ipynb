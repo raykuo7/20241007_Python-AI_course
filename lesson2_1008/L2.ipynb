{
 "cells": [
  {
   "cell_type": "code",
   "execution_count": null,
   "metadata": {},
   "outputs": [],
   "source": [
    "open(file='names.txt',encoding='utf-8')"
   ]
  },
  {
   "cell_type": "code",
   "execution_count": null,
   "metadata": {},
   "outputs": [],
   "source": [
    "file1 = open('names.txt','r',encoding='utf-8')\n",
    "print(file1.closed) #file 實體的屬性, 查file2關閉沒\n",
    "file1.close() # file實體的方法，關閉file實體\n",
    "print(file1.closed) #file 實體的屬性, 查file2關閉沒"
   ]
  },
  {
   "cell_type": "markdown",
   "metadata": {},
   "source": [
    "display = 輸出資料格式\n"
   ]
  },
  {
   "cell_type": "code",
   "execution_count": 13,
   "metadata": {},
   "outputs": [
    {
     "name": "stdout",
     "output_type": "stream",
     "text": [
      "張軒宸\n",
      "張凡成\n",
      "張俊傑\n",
      "張韋成\n",
      "張牧聿\n",
      "張莉雯\n",
      "張伊映\n",
      "張雅芬\n",
      "張婕妤\n",
      "張天亨\n",
      "張嘉韋\n",
      "張明惟\n",
      "張家秀\n",
      "張慧君\n",
      "張凱妮\n",
      "張彥博\n",
      "file is closed!\n"
     ]
    }
   ],
   "source": [
    "with open('names.txt',encoding='utf-8') as file2:\n",
    "    content1 = file2.read()\n",
    "    # print(content1)\n",
    "    # display(content1)\n",
    "    list1 = content1.split('\\n')\n",
    "    list2 = []\n",
    "    for i in list1:\n",
    "        if i[0] == '張':\n",
    "            print(i)\n",
    "            list2.append(i)\n",
    "if file2.closed:\n",
    "    print('file is closed!')\n",
    "else:\n",
    "    file2.close()"
   ]
  },
  {
   "cell_type": "code",
   "execution_count": 14,
   "metadata": {},
   "outputs": [
    {
     "data": {
      "text/plain": [
       "['張軒宸',\n",
       " '張凡成',\n",
       " '張俊傑',\n",
       " '張韋成',\n",
       " '張牧聿',\n",
       " '張莉雯',\n",
       " '張伊映',\n",
       " '張雅芬',\n",
       " '張婕妤',\n",
       " '張天亨',\n",
       " '張嘉韋',\n",
       " '張明惟',\n",
       " '張家秀',\n",
       " '張慧君',\n",
       " '張凱妮',\n",
       " '張彥博']"
      ]
     },
     "execution_count": 14,
     "metadata": {},
     "output_type": "execute_result"
    }
   ],
   "source": [
    "list2"
   ]
  },
  {
   "cell_type": "code",
   "execution_count": 16,
   "metadata": {},
   "outputs": [],
   "source": [
    "with open('chang.txt', 'w',encoding='utf-8') as file:\n",
    "    for i in list2:\n",
    "        file.write(i)\n",
    "        file.write(' ')\n",
    "with open('chang_comma.txt', 'w',encoding='utf-8') as file:\n",
    "    for i in list2:\n",
    "        file.write(i)\n",
    "        file.write(',')\n",
    "        "
   ]
  },
  {
   "cell_type": "code",
   "execution_count": null,
   "metadata": {},
   "outputs": [],
   "source": []
  }
 ],
 "metadata": {
  "kernelspec": {
   "display_name": "tvdi_202410",
   "language": "python",
   "name": "python3"
  },
  "language_info": {
   "codemirror_mode": {
    "name": "ipython",
    "version": 3
   },
   "file_extension": ".py",
   "mimetype": "text/x-python",
   "name": "python",
   "nbconvert_exporter": "python",
   "pygments_lexer": "ipython3",
   "version": "3.11.10"
  }
 },
 "nbformat": 4,
 "nbformat_minor": 2
}
