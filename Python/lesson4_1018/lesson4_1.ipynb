{
 "cells": [
  {
   "cell_type": "code",
   "execution_count": null,
   "metadata": {},
   "outputs": [],
   "source": [
    "import requests \n",
    "from requests import Response\n",
    "\n",
    "def main():\n",
    "\n",
    "    url1 = 'https://data.moi.gov.tw/MoiOD/System/   DownloadFile.aspx? DATA=5481753E-52AF-40DA-9A8A-9E192B245E13'\n",
    "    \n",
    "    #請存檔為a1.csv\n",
    "    \n",
    "    res:Response = requests.get(url=url1)\n",
    "    # if res.status_code == 200:\n",
    "    try: \n",
    "        print('download successfully!')\n",
    "    except:\n",
    "        print('down fail!')\n",
    "        \n",
    "    res.encoding = 'utf-8'\n",
    "    content:str = res.text   \n",
    "\n",
    "    with open('a1.csv', newline='', encoding='utf-8', mode='w') as file1:\n",
    "        file1.write(content) \n",
    "\n",
    "if __name__ == \"__main\":\n",
    "        main()\n",
    "    "
   ]
  },
  {
   "cell_type": "code",
   "execution_count": 1,
   "metadata": {},
   "outputs": [
    {
     "name": "stdout",
     "output_type": "stream",
     "text": [
      "__main__\n"
     ]
    }
   ],
   "source": [
    "print(__name__)"
   ]
  },
  {
   "cell_type": "code",
   "execution_count": 2,
   "metadata": {},
   "outputs": [],
   "source": [
    "\n",
    "from PIL import Image\n",
    " \n",
    "logo = Image.open(\"D:/GitHub/20241007_Python-AI_course/Python/lesson4_1018/cat.png\")\n",
    " \n",
    "logo.save(\"D:/GitHub/20241007_Python-AI_course/Python/lesson4_1018/cat.ico\",format='ICO')"
   ]
  },
  {
   "cell_type": "code",
   "execution_count": 3,
   "metadata": {},
   "outputs": [],
   "source": [
    "\n",
    "from PIL import Image, ImageTk\n"
   ]
  }
 ],
 "metadata": {
  "kernelspec": {
   "display_name": "Python 3",
   "language": "python",
   "name": "python3"
  },
  "language_info": {
   "codemirror_mode": {
    "name": "ipython",
    "version": 3
   },
   "file_extension": ".py",
   "mimetype": "text/x-python",
   "name": "python",
   "nbconvert_exporter": "python",
   "pygments_lexer": "ipython3",
   "version": "3.11.10"
  }
 },
 "nbformat": 4,
 "nbformat_minor": 2
}
