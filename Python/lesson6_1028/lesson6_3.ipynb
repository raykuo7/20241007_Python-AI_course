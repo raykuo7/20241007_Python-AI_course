{
 "cells": [
  {
   "cell_type": "code",
   "execution_count": null,
   "metadata": {},
   "outputs": [],
   "source": [
    "import sqlite3\n",
    "sql = '''\n",
    "-- records definition\n",
    "\n",
    "CREATE TABLE IF NOT EXIST records (\n",
    "\tid INTEGER NOT NULL PRIMARY KEY AUTOINCREMENT,\n",
    "\tsitename TEXT NOT NULL,\n",
    "\tcounty TEXT],\n",
    "\taqi INTEGER,\n",
    "\tstatus TEXT,\n",
    "\tpm25 NUMERIC,\n",
    "\tdate TEXT,\n",
    "\tlat NUMERIC,\n",
    "\tlon NUMERIC\n",
    ");\n",
    "'''\n",
    "conn = sqlite3.connect('aqi_2.db')\n",
    "cursor = conn.cursor()\n",
    "cursor.execute(sql)\n",
    "conn.commit()\n",
    "cursor.close()\n",
    "conn.close()"
   ]
  },
  {
   "cell_type": "code",
   "execution_count": 6,
   "metadata": {},
   "outputs": [],
   "source": [
    "sql = '''\n",
    "CREATE TABLE IF NOT EXISTS records (\n",
    "\tid INTEGER NOT NULL PRIMARY KEY AUTOINCREMENT,\n",
    "\tsitename TEXT NOT NULL,\n",
    "\tcounty TEXT,\n",
    "\taqi INTEGER,\n",
    "\tstatus TEXT,\n",
    "\tpm25 NUMERIC,\n",
    "\tdate TEXT,\n",
    "\tlat NUMERIC,\n",
    "\tlon NUMERIC\n",
    ");\n",
    "'''\n",
    "\n",
    "import sqlite3\n",
    "\n",
    "# Connect to SQLite database (or create it if it doesn't exist)\n",
    "conn = sqlite3.connect(\"AQI.db\")\n",
    "\n",
    "# Create a cursor object\n",
    "cursor = conn.cursor()\n",
    "\n",
    "# Create a table\n",
    "cursor.execute(sql)\n",
    "\n",
    "# Commit changes and close the connection\n",
    "conn.commit()\n",
    "cursor.close()\n",
    "conn.close()"
   ]
  },
  {
   "cell_type": "markdown",
   "metadata": {},
   "source": [
    "INSERT INTO records (sitename,county,aqi,status,pm25,date,lat,lon)\n",
    "VALUES ('高雄（湖內）' , '高雄市' , 16 , '良好', 3.5 ,'2024-10-28 14:00', 22.87985556 ,120.24535)"
   ]
  },
  {
   "cell_type": "code",
   "execution_count": null,
   "metadata": {},
   "outputs": [],
   "source": [
    "sql = '''\n",
    "CREATE TABLE IF NOT EXISTS records (\n",
    "\tid INTEGER NOT NULL PRIMARY KEY AUTOINCREMENT,\n",
    "\tsitename TEXT NOT NULL,\n",
    "\tcounty TEXT,\n",
    "\taqi INTEGER,\n",
    "\tstatus TEXT,\n",
    "\tpm25 NUMERIC,\n",
    "\tdate TEXT,\n",
    "\tlat NUMERIC,\n",
    "\tlon NUMERIC\n",
    ");\n",
    "'''\n",
    "\n",
    "import sqlite3\n",
    "\n",
    "# Connect to SQLite database (or create it if it doesn't exist)\n",
    "conn = sqlite3.connect(\"AQI.db\")\n",
    "\n",
    "# Create a cursor object\n",
    "cursor = conn.cursor()\n",
    "\n",
    "# Create a table\n",
    "cursor.execute(sql)\n",
    "\n",
    "# Commit changes and close the connection\n",
    "conn.commit()\n",
    "cursor.close()\n",
    "conn.close()"
   ]
  }
 ],
 "metadata": {
  "kernelspec": {
   "display_name": "Python 3",
   "language": "python",
   "name": "python3"
  },
  "language_info": {
   "codemirror_mode": {
    "name": "ipython",
    "version": 3
   },
   "file_extension": ".py",
   "mimetype": "text/x-python",
   "name": "python",
   "nbconvert_exporter": "python",
   "pygments_lexer": "ipython3",
   "version": "3.11.10"
  }
 },
 "nbformat": 4,
 "nbformat_minor": 2
}
